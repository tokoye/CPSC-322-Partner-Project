{
 "cells": [
  {
   "cell_type": "markdown",
   "metadata": {},
   "source": [
    "# Project Proposal\n",
    "## Charles Walker, Tobenna Okoye"
   ]
  },
  {
   "cell_type": "markdown",
   "metadata": {},
   "source": [
    "## Dataset Description:\n",
    "https://developer.spotify.com/documentation/web-api/reference/#reference-index <br>\n",
    "The dataset we will be using is from the Spotify API. It allows for many different types of requests of Spotify's data such as information about a song. You can get the popularity level of a song and its audio features.\n",
    "\n",
    "Spotify’s “Get Audio Features for a Track” API request grabs this information about a song:\n",
    "   \"danceability\": 0.735 <br>\n",
    "    \"energy\": 0.578<br>\n",
    "    \"key\": 5<br>\n",
    "    \"loudness\": -11.84<br>\n",
    "    \"mode\": 0<br>\n",
    "    \"speechiness\": 0.0461<br>\n",
    "    \"acousticness\": 0.514<br>\n",
    "    \"instrumentalness\": 0.0902<br>\n",
    "    \"liveness\": 0.159<br>\n",
    "    \"valence\": 0.624<br>\n",
    "    \"tempo\": 98.002<br>\n",
    "    \"duration_ms\": 255349<br>\n",
    "These will be the attributes we use as class information, and with it, we will predict a song's popularity level. Some of these attributes are measurements that are unique to and determined by Spotify, such as \"danceability\" or \"energy\". With this in mind, we know that our results will be somewhat specific to Spotify.<br> \n",
    "We’ll be able to predict: Song popularity: ?/100<br>\n",
    "Song popularity is found in the “Get a Track” API request."
   ]
  },
  {
   "cell_type": "markdown",
   "metadata": {},
   "source": [
    "## Implementation/technical merit\n",
    "\n",
    "Some anticipated challenges include having to build the dataset by getting a certain number of top spotify songs, then build the instances by grabbing the title, popularity, and the audio features for each song and putting it into a row in our dataset. We will also have to either update our classifiers and prediction algorithms to work with continuous data or convert this continuous data into classes.<br>\n",
    "Since the json respone from sPotify's API requests can be very large, we'll have to parse out what we want. We have experience in parsing through json data and grabbing the information that we want, so this should not pose too much of a problem."
   ]
  },
  {
   "cell_type": "markdown",
   "metadata": {},
   "source": [
    "## Potential Impact of the Results\n",
    "\n",
    "Our results will be useful because they will show if there is any correlation between the audio features of a song and its popularity. This could be useful for artists to know what technicalities their song must have for it to have the similar affect as a more popular or well known song in that genre. Those who may be most afffected by these results may be Spotiy users/ followers, and artists that use Spotify."
   ]
  },
  {
   "cell_type": "code",
   "execution_count": null,
   "metadata": {},
   "outputs": [],
   "source": []
  }
 ],
 "metadata": {
  "kernelspec": {
   "display_name": "Python 3",
   "language": "python",
   "name": "python3"
  },
  "language_info": {
   "codemirror_mode": {
    "name": "ipython",
    "version": 3
   },
   "file_extension": ".py",
   "mimetype": "text/x-python",
   "name": "python",
   "nbconvert_exporter": "python",
   "pygments_lexer": "ipython3",
   "version": "3.8.5"
  }
 },
 "nbformat": 4,
 "nbformat_minor": 4
}
