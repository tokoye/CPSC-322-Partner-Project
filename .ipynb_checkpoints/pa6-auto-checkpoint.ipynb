{
 "cells": [
  {
   "cell_type": "code",
   "execution_count": 1,
   "metadata": {},
   "outputs": [],
   "source": [
    "# some useful mysklearn package import statements and reloads\n",
    "import importlib\n",
    "\n",
    "import mysklearn.myutils\n",
    "importlib.reload(mysklearn.myutils)\n",
    "import mysklearn.myutils as myutils\n",
    "\n",
    "# uncomment once you paste your mypytable.py into mysklearn package\n",
    "import mysklearn.mypytable\n",
    "importlib.reload(mysklearn.mypytable)\n",
    "from mysklearn.mypytable import MyPyTable \n",
    "\n",
    "import mysklearn.myclassifiers\n",
    "importlib.reload(mysklearn.myclassifiers)\n",
    "from mysklearn.myclassifiers import MyKNeighborsClassifier, MySimpleLinearRegressor, MyNaiveBayesClassifier, MyDecisionTreeClassifier\n",
    "\n",
    "import mysklearn.myevaluation\n",
    "importlib.reload(mysklearn.myevaluation)\n",
    "import mysklearn.myevaluation as myevaluation"
   ]
  },
  {
   "cell_type": "markdown",
   "metadata": {},
   "source": [
    "# Auto Classification\n",
    "Create a decision tree classifier that predicts mpg rankings (given in PA2) from the cylinders, weight, and model year attributes."
   ]
  },
  {
   "cell_type": "markdown",
   "metadata": {},
   "source": [
    "### Decision Tree classifier using stratified k-fold cross-validation (with k = 10)\n",
    "The Decision Tree was about 2.8% more accurate than the Naive Bayes classifier."
   ]
  },
  {
   "cell_type": "code",
   "execution_count": 11,
   "metadata": {},
   "outputs": [
    {
     "name": "stdout",
     "output_type": "stream",
     "text": [
      "===========================================\n",
      "Predictive Accuracy\n",
      "===========================================\n",
      "Stratified 10-Fold Cross Validation\n",
      "Decision Tree: accuracy = 0.20717131474103587 error rate =  0.7928286852589641\n",
      "Naive Bayes: accuracy = 0.17928286852589642 error rate =  0.8207171314741035\n"
     ]
    }
   ],
   "source": [
    "import os\n",
    "import importlib\n",
    "\n",
    "import mysklearn.myutils\n",
    "importlib.reload(mysklearn.myutils)\n",
    "import mysklearn.myutils as myutils\n",
    "\n",
    "# uncomment once you paste your mypytable.py into mysklearn package\n",
    "import mysklearn.mypytable\n",
    "importlib.reload(mysklearn.mypytable)\n",
    "from mysklearn.mypytable import MyPyTable \n",
    "\n",
    "import mysklearn.myclassifiers\n",
    "importlib.reload(mysklearn.myclassifiers)\n",
    "from mysklearn.myclassifiers import MyKNeighborsClassifier, MySimpleLinearRegressor, MyNaiveBayesClassifier, MyDecisionTreeClassifier\n",
    "\n",
    "import mysklearn.myevaluation\n",
    "importlib.reload(mysklearn.myevaluation)\n",
    "import mysklearn.myevaluation as myevaluation\n",
    "\n",
    "auto_file = os.path.join(\"input_data\", \"auto-data-removed-NA.txt\")\n",
    "auto = myutils.load_data(auto_file)\n",
    "auto.remove_rows_with_missing_values()\n",
    "\n",
    "w = myutils.convert_weights(auto.get_column('weight'))\n",
    "c = auto.get_column('cylinders')\n",
    "model_year = auto.get_column('model year')\n",
    "x_train = [[c[i],w[i],model_year[i]] for i in range(len(w))]\n",
    "y_train = myutils.mpg_to_rating(auto.get_column('mpg'))\n",
    "\n",
    "train_folds2, test_folds2 = myevaluation.stratified_kfold_cross_validation(x_train, y_train, 10)\n",
    "x_train2, y_train2, x_test2, y_test2 = myutils.folds_to_train(x_train, y_train, train_folds2, test_folds2)\n",
    "\n",
    "tree = MyDecisionTreeClassifier()\n",
    "tree.fit(x_train2, y_train2)\n",
    "pred2 = tree.predict(x_test2)\n",
    "accuracy2 = myutils.get_accuracy(y_test2, pred2)\n",
    "print(\"===========================================\")\n",
    "print(\"Predictive Accuracy\")\n",
    "print(\"===========================================\")\n",
    "print('Stratified 10-Fold Cross Validation')\n",
    "print('Decision Tree: accuracy =', accuracy2, 'error rate = ', (1-accuracy2))\n",
    "\n",
    "nb = MyNaiveBayesClassifier()\n",
    "nb.fit(x_train2, y_train2)\n",
    "pred2 = nb.predict(x_test2)\n",
    "accuracy2 = myutils.get_accuracy(y_test2, pred2)\n",
    "print('Naive Bayes: accuracy =', accuracy2, 'error rate = ', (1-accuracy2))"
   ]
  },
  {
   "cell_type": "markdown",
   "metadata": {},
   "source": [
    "### Confusion Matrix / Decision Tree Rules"
   ]
  },
  {
   "cell_type": "code",
   "execution_count": 12,
   "metadata": {},
   "outputs": [
    {
     "name": "stdout",
     "output_type": "stream",
     "text": [
      "===========================================\n",
      "5: Confusion matrices\n",
      "===========================================\n",
      "=====  ===  ===  ===  ===  ===  ===  ===  ===  ===  ====  =======  =================\n",
      "  MPG    1    2    3    4    5    6    7    8    9    10    Total    Recognition (%)\n",
      "=====  ===  ===  ===  ===  ===  ===  ===  ===  ===  ====  =======  =================\n",
      "    1    0    0    0   25    0    0    0    0    0     0       26               0\n",
      "    2    0    0    0   16    0    0    0    0    0     0       18               0\n",
      "    3    0    0    0   36    0    0    0    0    0     0       39               0\n",
      "    4    0    0    0   52    0    0    0    0    0     0       56              92.86\n",
      "    5    0    0    0   46    0    0    0    0    0     0       51               0\n",
      "    6    0    0    0   30    0    0    0    0    0     0       36               0\n",
      "    7    0    0    0   26    0    0    0    0    0     0       33               0\n",
      "    8    0    0    0   18    0    0    0    0    0     0       26               0\n",
      "    9    0    0    0    2    0    0    0    0    0     0       11               0\n",
      "   10    0    0    0    0    0    0    0    0    0     0       10               0\n",
      "=====  ===  ===  ===  ===  ===  ===  ===  ===  ===  ====  =======  =================\n"
     ]
    }
   ],
   "source": [
    "import importlib\n",
    "import mysklearn.myutils\n",
    "importlib.reload(mysklearn.myutils)\n",
    "import mysklearn.myutils as myutils\n",
    "# uncomment once you paste your mypytable.py into mysklearn package\n",
    "import mysklearn.mypytable\n",
    "importlib.reload(mysklearn.mypytable)\n",
    "from mysklearn.mypytable import MyPyTable \n",
    "import mysklearn.myclassifiers\n",
    "importlib.reload(mysklearn.myclassifiers)\n",
    "from mysklearn.myclassifiers import MyKNeighborsClassifier, MySimpleLinearRegressor, MyNaiveBayesClassifier\n",
    "import mysklearn.myevaluation\n",
    "importlib.reload(mysklearn.myevaluation)\n",
    "import mysklearn.myevaluation as myevaluation\n",
    "import os\n",
    "import random\n",
    "\n",
    "auto_file = os.path.join(\"input_data\", \"auto-data-removed-NA.txt\")\n",
    "auto = myutils.load_data(auto_file)\n",
    "auto.remove_rows_with_missing_values()\n",
    "\n",
    "w = myutils.convert_weights(auto.get_column('weight'))\n",
    "c = auto.get_column('cylinders')\n",
    "model_year = auto.get_column('model year')\n",
    "x_train = [[c[i],w[i],model_year[i]] for i in range(len(w))]\n",
    "y_train = myutils.mpg_to_rating(auto.get_column('mpg'))\n",
    "\n",
    "train_folds2, test_folds2 = myevaluation.stratified_kfold_cross_validation(x_train, y_train, 10)\n",
    "x_train2, y_train2, x_test2, y_test2 = myutils.folds_to_train(x_train, y_train, train_folds2, test_folds2)\n",
    "tree = MyDecisionTreeClassifier()\n",
    "tree.fit(x_train2, y_train2)\n",
    "pred2 = tree.predict(x_test2)\n",
    "\n",
    "print(\"===========================================\")\n",
    "print(\"5: Confusion matrices\")\n",
    "print(\"===========================================\")\n",
    "matrix = myevaluation.confusion_matrix(y_test2, pred2, [0,1,2,3,4,5,6,7,8,9,10])\n",
    "table_header = ['MPG', 1,2, 3 ,4, 5, 6, 7, 8, 9, 10, 'Total', 'Recognition (%)']\n",
    "myutils.add_config_stats(matrix)\n",
    "myutils.print_tabulate(matrix, table_header)\n",
    "\n",
    "tree.print_decision_rules()"
   ]
  },
  {
   "cell_type": "code",
   "execution_count": null,
   "metadata": {},
   "outputs": [],
   "source": []
  }
 ],
 "metadata": {
  "kernelspec": {
   "display_name": "Python 3",
   "language": "python",
   "name": "python3"
  },
  "language_info": {
   "codemirror_mode": {
    "name": "ipython",
    "version": 3
   },
   "file_extension": ".py",
   "mimetype": "text/x-python",
   "name": "python",
   "nbconvert_exporter": "python",
   "pygments_lexer": "ipython3",
   "version": "3.8.5"
  }
 },
 "nbformat": 4,
 "nbformat_minor": 4
}
