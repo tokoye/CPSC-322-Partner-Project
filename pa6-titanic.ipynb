{
 "cells": [
  {
   "cell_type": "code",
   "execution_count": 1,
   "metadata": {},
   "outputs": [],
   "source": [
    "# some useful mysklearn package import statements and reloads\n",
    "import importlib\n",
    "\n",
    "import mysklearn.myutils\n",
    "importlib.reload(mysklearn.myutils)\n",
    "import mysklearn.myutils as myutils\n",
    "\n",
    "# uncomment once you paste your mypytable.py into mysklearn package\n",
    "import mysklearn.mypytable\n",
    "importlib.reload(mysklearn.mypytable)\n",
    "from mysklearn.mypytable import MyPyTable \n",
    "\n",
    "import mysklearn.myclassifiers\n",
    "importlib.reload(mysklearn.myclassifiers)\n",
    "from mysklearn.myclassifiers import MyKNeighborsClassifier, MySimpleLinearRegressor, MyNaiveBayesClassifier, MyDecisionTreeClassifier\n",
    "\n",
    "import mysklearn.myevaluation\n",
    "importlib.reload(mysklearn.myevaluation)\n",
    "import mysklearn.myevaluation as myevaluation"
   ]
  },
  {
   "cell_type": "markdown",
   "metadata": {},
   "source": [
    "# Titanic Classification\n",
    "\n",
    "The accuracies of oth classifiers are the same"
   ]
  },
  {
   "cell_type": "code",
   "execution_count": 4,
   "metadata": {},
   "outputs": [
    {
     "name": "stdout",
     "output_type": "stream",
     "text": [
      "===========================================\n",
      "Predictive Accuracy\n",
      "===========================================\n",
      "Stratified 10-Fold Cross Validation\n",
      "Decision Tree: accuracy = 0.6769650159018628 error rate =  0.32303498409813725\n",
      "Naive Bayes: accuracy = 0.6769650159018628 error rate =  0.32303498409813725\n"
     ]
    }
   ],
   "source": [
    "import importlib\n",
    "import mysklearn.myutils\n",
    "importlib.reload(mysklearn.myutils)\n",
    "import mysklearn.myutils as myutils\n",
    "# uncomment once you paste your mypytable.py into mysklearn package\n",
    "import mysklearn.mypytable\n",
    "importlib.reload(mysklearn.mypytable)\n",
    "from mysklearn.mypytable import MyPyTable \n",
    "import mysklearn.myclassifiers\n",
    "importlib.reload(mysklearn.myclassifiers)\n",
    "from mysklearn.myclassifiers import MyKNeighborsClassifier, MySimpleLinearRegressor, MyNaiveBayesClassifier\n",
    "import mysklearn.myevaluation\n",
    "importlib.reload(mysklearn.myevaluation)\n",
    "import mysklearn.myevaluation as myevaluation\n",
    "import os\n",
    "\n",
    "fname = os.path.join(\"input_data\", \"titanic.txt\")\n",
    "titanic = MyPyTable().load_from_file(fname)\n",
    "t_class = titanic.get_column('class')\n",
    "t_age = titanic.get_column('age')\n",
    "t_sex = titanic.get_column('sex')\n",
    "x_train = [[t_class[i],t_age[i],t_sex[i]] for i in range(len(t_class))]\n",
    "y_train = titanic.get_column('survived')\n",
    "\n",
    "train_folds, test_folds = myevaluation.stratified_kfold_cross_validation(x_train, y_train, 10)\n",
    "x_train2, y_train2, x_test2, y_test2 = myutils.folds_to_train(x_train, y_train, train_folds, test_folds)\n",
    "\n",
    "tree = MyDecisionTreeClassifier()\n",
    "tree.fit(x_train2, y_train2)\n",
    "pred2 = tree.predict(x_test2)\n",
    "accuracy2 = myutils.get_accuracy(y_test2, pred2)\n",
    "print(\"===========================================\")\n",
    "print(\"Predictive Accuracy\")\n",
    "print(\"===========================================\")\n",
    "print('Stratified 10-Fold Cross Validation')\n",
    "print('Decision Tree: accuracy =', accuracy2, 'error rate = ', (1-accuracy2))\n",
    "\n",
    "nb = MyNaiveBayesClassifier()\n",
    "nb.fit(x_train2, y_train2)\n",
    "pred2 = nb.predict(x_test2)\n",
    "accuracy2 = myutils.get_accuracy(y_test2, pred2)\n",
    "print('Naive Bayes: accuracy =', accuracy2, 'error rate = ', (1-accuracy2))\n",
    "\n"
   ]
  },
  {
   "cell_type": "markdown",
   "metadata": {},
   "source": [
    "### Confusion Matrix / Decision Rules"
   ]
  },
  {
   "cell_type": "code",
   "execution_count": 5,
   "metadata": {},
   "outputs": [
    {
     "name": "stdout",
     "output_type": "stream",
     "text": [
      "===========================================\n",
      "Decision Tree confusion Matrix\n",
      "===========================================\n",
      "Decision Tree: accuracy = 0.6769650159018628 error rate =  0.32303498409813725\n",
      "==========  =====  ====  =======  =================\n",
      "Survived      yes    no    Total    Recognition (%)\n",
      "==========  =====  ====  =======  =================\n",
      "1            1490     0     1490              100\n",
      "2             711     0      711                0\n",
      "Total        2201     0     2201               67.7\n",
      "==========  =====  ====  =======  =================\n"
     ]
    }
   ],
   "source": [
    "import importlib\n",
    "import mysklearn.myutils\n",
    "importlib.reload(mysklearn.myutils)\n",
    "import mysklearn.myutils as myutils\n",
    "# uncomment once you paste your mypytable.py into mysklearn package\n",
    "import mysklearn.mypytable\n",
    "importlib.reload(mysklearn.mypytable)\n",
    "from mysklearn.mypytable import MyPyTable \n",
    "import mysklearn.myclassifiers\n",
    "importlib.reload(mysklearn.myclassifiers)\n",
    "from mysklearn.myclassifiers import MyKNeighborsClassifier, MySimpleLinearRegressor, MyNaiveBayesClassifier\n",
    "import mysklearn.myevaluation\n",
    "importlib.reload(mysklearn.myevaluation)\n",
    "import mysklearn.myevaluation as myevaluation\n",
    "import os\n",
    "\n",
    "fname = os.path.join(\"input_data\", \"titanic.txt\")\n",
    "titanic = MyPyTable().load_from_file(fname)\n",
    "t_class = titanic.get_column('class')\n",
    "t_age = titanic.get_column('age')\n",
    "t_sex = titanic.get_column('sex')\n",
    "x_train = [[t_class[i],t_age[i],t_sex[i]] for i in range(len(t_class))]\n",
    "y_train = titanic.get_column('survived')\n",
    "\n",
    "train_folds, test_folds = myevaluation.stratified_kfold_cross_validation(x_train, y_train, 10)\n",
    "x_train1, y_train1, x_test1, y_test1 = myutils.folds_to_train(x_train, y_train, train_folds, test_folds)\n",
    "\n",
    "tree = MyDecisionTreeClassifier()\n",
    "tree.fit(x_train1, y_train1)\n",
    "pred = tree.predict(x_test1)\n",
    "accuracy = myutils.get_accuracy(y_test1, pred)\n",
    "\n",
    "print(\"===========================================\")\n",
    "print(\"Decision Tree confusion Matrix\")\n",
    "print(\"===========================================\")\n",
    "\n",
    "print('Decision Tree: accuracy =', accuracy, 'error rate = ', (1-accuracy))\n",
    "matrix = myevaluation.confusion_matrix(y_test1, pred, ['yes','no'])\n",
    "header = ['Survived', 'yes', 'no', 'Total', 'Recognition (%)']\n",
    "myutils.titanic_matrix(matrix)\n",
    "myutils.print_tabulate(matrix, header)\n",
    "tree.fit(x_train1, y_train1)\n",
    "\n",
    "tree.print_decision_rules()"
   ]
  },
  {
   "cell_type": "code",
   "execution_count": null,
   "metadata": {},
   "outputs": [],
   "source": []
  }
 ],
 "metadata": {
  "kernelspec": {
   "display_name": "Python 3",
   "language": "python",
   "name": "python3"
  },
  "language_info": {
   "codemirror_mode": {
    "name": "ipython",
    "version": 3
   },
   "file_extension": ".py",
   "mimetype": "text/x-python",
   "name": "python",
   "nbconvert_exporter": "python",
   "pygments_lexer": "ipython3",
   "version": "3.8.5"
  }
 },
 "nbformat": 4,
 "nbformat_minor": 4
}
